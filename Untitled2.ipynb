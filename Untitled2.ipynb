{
  "nbformat": 4,
  "nbformat_minor": 0,
  "metadata": {
    "colab": {
      "provenance": [],
      "authorship_tag": "ABX9TyMvELtaff5XFEnDGHCdLQuv",
      "include_colab_link": true
    },
    "kernelspec": {
      "name": "python3",
      "display_name": "Python 3"
    },
    "language_info": {
      "name": "python"
    }
  },
  "cells": [
    {
      "cell_type": "markdown",
      "metadata": {
        "id": "view-in-github",
        "colab_type": "text"
      },
      "source": [
        "<a href=\"https://colab.research.google.com/github/AshSlake/Projeto_Imersao_Alura_Google/blob/main/Untitled2.ipynb\" target=\"_parent\"><img src=\"https://colab.research.google.com/assets/colab-badge.svg\" alt=\"Open In Colab\"/></a>"
      ]
    },
    {
      "cell_type": "code",
      "execution_count": 1,
      "metadata": {
        "id": "vwbJzPyvUA5k"
      },
      "outputs": [],
      "source": [
        "!pip install -q -U google-generativeai"
      ]
    },
    {
      "cell_type": "code",
      "source": [
        "# Import the Python SDK\n",
        "import google.generativeai as chat\n",
        "\n",
        "from google.colab import userdata\n",
        "api_key = userdata.get('SECRET_KEY')\n",
        "GOOGLE_API_KEY=\"api_key = api_key\"\n",
        "chat.configure(api_key=GOOGLE_API_KEY)"
      ],
      "metadata": {
        "id": "FDCbdD4ZUPgf"
      },
      "execution_count": 37,
      "outputs": []
    },
    {
      "cell_type": "markdown",
      "source": [
        "**Listar os modelos  disponiveis**"
      ],
      "metadata": {
        "id": "TRrJ6S34Ur6R"
      }
    },
    {
      "cell_type": "code",
      "source": [
        "for m in chat.list_models():\n",
        "  if 'generateContent' in m.supported_generation_methods:\n",
        "    print(m.name)"
      ],
      "metadata": {
        "colab": {
          "base_uri": "https://localhost:8080/",
          "height": 139
        },
        "id": "ZRS2bQ0HUnvW",
        "outputId": "23fbd0a7-485c-4b39-82fa-db7bf18fbc59"
      },
      "execution_count": 6,
      "outputs": [
        {
          "output_type": "stream",
          "name": "stdout",
          "text": [
            "models/gemini-1.0-pro\n",
            "models/gemini-1.0-pro-001\n",
            "models/gemini-1.0-pro-latest\n",
            "models/gemini-1.0-pro-vision-latest\n",
            "models/gemini-1.5-pro-latest\n",
            "models/gemini-pro\n",
            "models/gemini-pro-vision\n"
          ]
        }
      ]
    },
    {
      "cell_type": "code",
      "source": [
        "configuracao_de_geracao = {\n",
        "    \"candidate_count\": 1,\n",
        "    \"temperature\": 0.5,\n",
        "}"
      ],
      "metadata": {
        "id": "o0fiToLCVyMw"
      },
      "execution_count": 8,
      "outputs": []
    },
    {
      "cell_type": "code",
      "source": [
        "sistema_de_segurança = {\n",
        "    \"HARASSMENT\": \"BLOCK_NONE\",\n",
        "    \"HATE\" : \"BLOCK_NONE\",\n",
        "    \"SEXUAL\" : \"BLOCK_NONE\",\n",
        "    \"DANGEROUS\" : \"BLOCK_NONE\",\n",
        "}"
      ],
      "metadata": {
        "id": "6HRlqSRsYUd9"
      },
      "execution_count": 12,
      "outputs": []
    },
    {
      "cell_type": "code",
      "source": [],
      "metadata": {
        "id": "XSK0V1ioZgy3"
      },
      "execution_count": null,
      "outputs": []
    },
    {
      "cell_type": "markdown",
      "source": [
        "**INICIALIZANDO O MODELO**"
      ],
      "metadata": {
        "id": "X92x1HmWcOnQ"
      }
    },
    {
      "cell_type": "code",
      "source": [
        "model = chat.GenerativeModel(model_name= \"gemini-1.0-pro\",\n",
        "                             generation_config=configuracao_de_geracao,\n",
        "                             safety_settings=sistema_de_segurança)"
      ],
      "metadata": {
        "id": "GtXmr9jqcVuM"
      },
      "execution_count": 13,
      "outputs": []
    },
    {
      "cell_type": "code",
      "source": [
        "response = model.generate_content(\"estou desenvolvendo um app de rpg de mesa em js.me de umas ideias.\")\n",
        "print(response.text)"
      ],
      "metadata": {
        "colab": {
          "base_uri": "https://localhost:8080/",
          "height": 538
        },
        "id": "BSQX0Z8zdbqe",
        "outputId": "85535a82-0c76-411f-ce0e-0d8818bf5827"
      },
      "execution_count": 15,
      "outputs": [
        {
          "output_type": "stream",
          "name": "stdout",
          "text": [
            "**Recursos de Criação de Personagem:**\n",
            "\n",
            "* **Gerador de Nomes:** Gere nomes únicos e temáticos para personagens.\n",
            "* **Criador de Raças:** Permita que os jogadores criem raças personalizadas com habilidades e características únicas.\n",
            "* **Construtor de Classes:** Ofereça uma ampla gama de classes com habilidades e proficiências distintas.\n",
            "* **Personalizador de Aparência:** Deixe os jogadores personalizar a aparência de seus personagens com opções como cor de cabelo, olhos e roupas.\n",
            "* **Sistema de Antecedentes:** Forneça um sistema para criar antecedentes detalhados e histórias de fundo para os personagens.\n",
            "\n",
            "**Recursos de Jogabilidade:**\n",
            "\n",
            "* **Rolador de Dados:** Implemente um rolador de dados virtual para resolver testes e combates.\n",
            "* **Rastreador de Iniciativa:** Acompanhe a ordem dos turnos dos jogadores e NPCs.\n",
            "* **Mapa do Mundo:** Crie um mapa interativo onde os jogadores podem explorar e interagir com o mundo do jogo.\n",
            "* **Sistema de Combate:** Desenvolva um sistema de combate envolvente com ataques, defesas e efeitos especiais.\n",
            "* **Gestão de Inventário:** Forneça um sistema para gerenciar o inventário de itens, equipamentos e tesouros dos personagens.\n",
            "\n",
            "**Recursos Sociais:**\n",
            "\n",
            "* **Chat em Tempo Real:** Permita que os jogadores se comuniquem entre si durante o jogo.\n",
            "* **Sistema de Mensagens:** Facilite a comunicação entre jogadores e o Mestre do Jogo.\n",
            "* **Fórum da Comunidade:** Crie um fórum onde os jogadores possam discutir o jogo, compartilhar ideias e se conectar com outros.\n",
            "* **Integração de Mídias Sociais:** Permita que os jogadores compartilhem suas conquistas e experiências nas redes sociais.\n",
            "\n",
            "**Outros Recursos:**\n",
            "\n",
            "* **Biblioteca de Regras:** Forneça acesso fácil às regras do jogo para referência rápida.\n",
            "* **Gerador de Encontros:** Crie encontros aleatórios e personalizados para desafiar os jogadores.\n",
            "* **Sistema de Progressão:** Implemente um sistema para recompensar os jogadores por completar missões e derrotar inimigos.\n",
            "* **Personalização do Tema:** Permita que os jogadores personalizem o tema do aplicativo com cores, fontes e imagens.\n",
            "* **Suporte a Várias Plataformas:** Torne o aplicativo acessível em dispositivos móveis, desktops e navegadores da web.\n"
          ]
        }
      ]
    },
    {
      "cell_type": "code",
      "source": [
        "chat = model.start_chat(history=[])"
      ],
      "metadata": {
        "id": "CXUPkOzufXo4"
      },
      "execution_count": 17,
      "outputs": []
    },
    {
      "cell_type": "code",
      "source": [
        "prompt = input(\"qual sua apergunta?\")\n",
        "\n",
        "while prompt != \"fim\":\n",
        "  response = chat.send_message(prompt)\n",
        "  print(\"resposta :\" , response.text, \"\\n\")\n",
        "  prompt = input(\"qual sua apergunta?\")"
      ],
      "metadata": {
        "colab": {
          "base_uri": "https://localhost:8080/"
        },
        "id": "1nySKHQwgGvT",
        "outputId": "877151a0-5b62-442f-a5fa-a23eb3ceb3a0"
      },
      "execution_count": 27,
      "outputs": [
        {
          "name": "stdout",
          "output_type": "stream",
          "text": [
            "qual sua apergunta?fim\n"
          ]
        }
      ]
    },
    {
      "cell_type": "code",
      "source": [
        "chat.history"
      ],
      "metadata": {
        "colab": {
          "base_uri": "https://localhost:8080/"
        },
        "id": "lrDDCpdvkxBR",
        "outputId": "b855744d-4f82-4404-8068-f6251c9acfad"
      },
      "execution_count": 28,
      "outputs": [
        {
          "output_type": "execute_result",
          "data": {
            "text/plain": [
              "[parts {\n",
              "   text: \"qual \\303\\251 a capital do japao?\"\n",
              " }\n",
              " role: \"user\",\n",
              " parts {\n",
              "   text: \"T\\303\\263quio\"\n",
              " }\n",
              " role: \"model\",\n",
              " parts {\n",
              "   text: \"oque \\303\\251 um cubo magico?\"\n",
              " }\n",
              " role: \"user\",\n",
              " parts {\n",
              "   text: \"Um cubo m\\303\\241gico \\303\\251 um quebra-cabe\\303\\247a tridimensional inventado pelo professor de arquitetura h\\303\\272ngaro Ern\\305\\221 Rubik em 1974.\\n\\n\\303\\211 um cubo composto por 26 cubinhos menores, chamados cubies, que podem ser girados em torno de eixos fixos. O objetivo do quebra-cabe\\303\\247a \\303\\251 restaurar o cubo para o seu estado original, com cada face tendo uma \\303\\272nica cor.\\n\\nExistem seis faces no cubo, cada uma com uma cor diferente: branco, amarelo, vermelho, laranja, azul e verde. Cada cubie tem uma \\303\\272nica cor em cada uma das suas seis faces.\\n\\nO cubo m\\303\\241gico \\303\\251 um dos quebra-cabe\\303\\247as mais vendidos do mundo, com mais de 350 milh\\303\\265es de unidades vendidas. \\303\\211 conhecido pela sua complexidade e pelo desafio que representa resolv\\303\\252-lo.\"\n",
              " }\n",
              " role: \"model\",\n",
              " parts {\n",
              "   text: \"oque \\303\\251 esse eerro ? StopCandidateException                    Traceback (most recent call last) <ipython-input-22-e6ba52bcab3c> in <cell line: 3>()       2        3 while prompt != \\\"fim\\\": ----> 4   response = chat.send_message(prompt)       5   print(\\\"resposta :\\\" , response.text, \\\"\\\\n\\\")       6   prompt = input(\\\"qual sua apergunta?\\\")  1 frames /usr/local/lib/python3.10/dist-packages/google/generativeai/generative_models.py in _check_response(self, response, stream)     508                 glm.Candidate.FinishReason.MAX_TOKENS,     509             ): --> 510                 raise generation_types.StopCandidateException(response.candidates[0])     511      512     def _get_function_calls(self, response) -> list[glm.FunctionCall]:  StopCandidateException: finish_reason: OTHER index: 0\"\n",
              " }\n",
              " role: \"user\",\n",
              " parts {\n",
              "   text: \"**StopCandidateException** \\303\\251 uma exce\\303\\247\\303\\243o lan\\303\\247ada pelo modelo de linguagem quando ele n\\303\\243o consegue gerar mais texto. Isso pode acontecer por v\\303\\241rios motivos, incluindo:\\n\\n* **O modelo atingiu o n\\303\\272mero m\\303\\241ximo de tokens:** Os modelos de linguagem s\\303\\243o limitados pelo n\\303\\272mero de tokens (palavras ou subpalavras) que podem gerar. Se o modelo atingir esse limite, ele lan\\303\\247ar\\303\\241 uma exce\\303\\247\\303\\243o StopCandidateException.\\n* **O modelo n\\303\\243o consegue gerar texto coerente:** Se o modelo n\\303\\243o conseguir gerar texto que fa\\303\\247a sentido ou seja relevante para o contexto, ele lan\\303\\247ar\\303\\241 uma exce\\303\\247\\303\\243o StopCandidateException.\\n* **O modelo encontrou um erro:** Se o modelo encontrar um erro durante a gera\\303\\247\\303\\243o de texto, ele lan\\303\\247ar\\303\\241 uma exce\\303\\247\\303\\243o StopCandidateException.\\n\\nNo seu caso espec\\303\\255fico, o erro ocorre porque o modelo atingiu o n\\303\\272mero m\\303\\241ximo de tokens. Voc\\303\\252 pode tentar reduzir o comprimento do seu prompt ou fornecer mais contexto ao modelo para ajud\\303\\241-lo a gerar texto mais coerente.\\n\\nAqui est\\303\\243o algumas dicas para evitar a exce\\303\\247\\303\\243o StopCandidateException:\\n\\n* Mantenha seus prompts concisos e espec\\303\\255ficos.\\n* Forne\\303\\247a contexto suficiente ao modelo para ajud\\303\\241-lo a entender o que voc\\303\\252 deseja que ele gere.\\n* Tente reformular seu prompt se o modelo continuar lan\\303\\247ando a exce\\303\\247\\303\\243o StopCandidateException.\\n* Aumente o n\\303\\272mero m\\303\\241ximo de tokens que o modelo pode gerar.\\n\\nSe voc\\303\\252 ainda estiver tendo problemas com a exce\\303\\247\\303\\243o StopCandidateException, entre em contato com o suporte do modelo de linguagem para obter ajuda.\"\n",
              " }\n",
              " role: \"model\",\n",
              " parts {\n",
              "   text: \"faca uma calculadora em js para mim\"\n",
              " }\n",
              " role: \"user\",\n",
              " parts {\n",
              "   text: \"```js\\n// Cria uma fun\\303\\247\\303\\243o para adicionar dois n\\303\\272meros\\nfunction adicionar(num1, num2) {\\n  return num1 + num2;\\n}\\n\\n// Cria uma fun\\303\\247\\303\\243o para subtrair dois n\\303\\272meros\\nfunction subtrair(num1, num2) {\\n  return num1 - num2;\\n}\\n\\n// Cria uma fun\\303\\247\\303\\243o para multiplicar dois n\\303\\272meros\\nfunction multiplicar(num1, num2) {\\n  return num1 * num2;\\n}\\n\\n// Cria uma fun\\303\\247\\303\\243o para dividir dois n\\303\\272meros\\nfunction dividir(num1, num2) {\\n  return num1 / num2;\\n}\\n\\n// Cria uma fun\\303\\247\\303\\243o para calcular o resto da divis\\303\\243o de dois n\\303\\272meros\\nfunction resto(num1, num2) {\\n  return num1 % num2;\\n}\\n\\n// Cria uma fun\\303\\247\\303\\243o para elevar um n\\303\\272mero a uma pot\\303\\252ncia\\nfunction potencia(num1, num2) {\\n  return Math.pow(num1, num2);\\n}\\n\\n// Cria uma fun\\303\\247\\303\\243o para calcular a raiz quadrada de um n\\303\\272mero\\nfunction raizQuadrada(num) {\\n  return Math.sqrt(num);\\n}\\n\\n// Cria uma fun\\303\\247\\303\\243o para calcular o seno de um n\\303\\272mero\\nfunction seno(num) {\\n  return Math.sin(num);\\n}\\n\\n// Cria uma fun\\303\\247\\303\\243o para calcular o cosseno de um n\\303\\272mero\\nfunction cosseno(num) {\\n  return Math.cos(num);\\n}\\n\\n// Cria uma fun\\303\\247\\303\\243o para calcular a tangente de um n\\303\\272mero\\nfunction tangente(num) {\\n  return Math.tan(num);\\n}\\n\\n// Cria uma fun\\303\\247\\303\\243o para converter graus para radianos\\nfunction grausParaRadianos(num) {\\n  return (num * Math.PI) / 180;\\n}\\n\\n// Cria uma fun\\303\\247\\303\\243o para converter radianos para graus\\nfunction radianosParaGraus(num) {\\n  return (num * 180) / Math.PI;\\n}\\n\\n// Exibe a calculadora na p\\303\\241gina\\nconst calculadora = document.getElementById(\\\"calculadora\\\");\\n\\n// Adiciona um event listener ao bot\\303\\243o de calcular\\ncalculadora.addEventListener(\\\"submit\\\", (e) => {\\n  e.preventDefault();\\n\\n  // Obt\\303\\251m os valores dos campos de entrada\\n  const num1 = parseFloat(document.getElementById(\\\"num1\\\").value);\\n  const num2 = parseFloat(document.getElementById(\\\"num2\\\").value);\\n  const operacao = document.getElementById(\\\"operacao\\\").value;\\n\\n  // Executa a opera\\303\\247\\303\\243o selecionada\\n  let resultado;\\n  switch (operacao) {\\n    case \\\"adicao\\\":\\n      resultado = adicionar(num1, num2);\\n      break;\\n    case \\\"subtracao\\\":\\n      resultado = subtrair(num1, num2);\\n      break;\\n    case \\\"multiplicacao\\\":\\n      resultado = multiplicar(num1, num2);\\n      break;\\n    case \\\"divisao\\\":\\n      resultado = dividir(num1, num2);\\n      break;\\n    case \\\"resto\\\":\\n      resultado = resto(num1, num2);\\n      break;\\n    case \\\"potencia\\\":\\n      resultado = potencia(num1, num2);\\n      break;\\n    case \\\"raizQuadrada\\\":\\n      resultado = raizQuadrada(num1);\\n      break;\\n    case \\\"seno\\\":\\n      resultado = seno(num1);\\n      break;\\n    case \\\"cosseno\\\":\\n      resultado = cosseno(num1);\\n      break;\\n    case \\\"tangente\\\":\\n      resultado = tangente(num1);\\n      break;\\n    case \\\"grausParaRadianos\\\":\\n      resultado = grausParaRadianos(num1);\\n      break;\\n    case \\\"radianosParaGraus\\\":\\n      resultado = radianosParaGraus(num1);\\n      break;\\n  }\\n\\n  // Exibe o resultado\\n  document.getElementById(\\\"resultado\\\").value = resultado;\\n});\\n```\\n\\n**Como usar:**\\n\\n1. Abra o arquivo HTML em um navegador da web.\\n2. Insira dois n\\303\\272meros nos campos de entrada.\\n3. Selecione a opera\\303\\247\\303\\243o desejada no menu suspenso.\\n4. Clique no bot\\303\\243o \\\"Calcular\\\".\\n5. O resultado ser\\303\\241 exibido no campo \\\"Resultado\\\".\\n\\n**Observa\\303\\247\\303\\265es:**\\n\\n* Esta calculadora n\\303\\243o lida com express\\303\\265es complexas.\\n* Se voc\\303\\252 inserir um n\\303\\272mero inv\\303\\241lido, a calculadora retornar\\303\\241 `NaN` (Not a Number).\\n* Voc\\303\\252 pode personalizar a calculadora adicionando mais opera\\303\\247\\303\\265es ou fun\\303\\247\\303\\265es.\"\n",
              " }\n",
              " role: \"model\",\n",
              " parts {\n",
              "   text: \"qual o numefo maximo de tokens que voce tem?antes de atingir seu limkite?\"\n",
              " }\n",
              " role: \"user\",\n",
              " parts {\n",
              "   text: \"O n\\303\\272mero m\\303\\241ximo de tokens que tenho antes de atingir meu limite varia dependendo do contexto e da tarefa espec\\303\\255fica.\\n\\n**Para gera\\303\\247\\303\\243o de texto:**\\n\\n* **Gratuito:** 200 tokens por solicita\\303\\247\\303\\243o\\n* **Plano B\\303\\241sico:** 1.000 tokens por solicita\\303\\247\\303\\243o\\n* **Plano Avan\\303\\247ado:** 2.000 tokens por solicita\\303\\247\\303\\243o\\n* **Plano Empresarial:** 4.000 tokens por solicita\\303\\247\\303\\243o\\n\\n**Para tradu\\303\\247\\303\\243o de idiomas:**\\n\\n* **Gratuito:** 500 tokens por solicita\\303\\247\\303\\243o\\n* **Plano B\\303\\241sico:** 2.000 tokens por solicita\\303\\247\\303\\243o\\n* **Plano Avan\\303\\247ado:** 5.000 tokens por solicita\\303\\247\\303\\243o\\n* **Plano Empresarial:** 10.000 tokens por solicita\\303\\247\\303\\243o\\n\\n**Para outras tarefas, como classifica\\303\\247\\303\\243o de texto e resposta a perguntas:**\\n\\n* **Gratuito:** 100 tokens por solicita\\303\\247\\303\\243o\\n* **Plano B\\303\\241sico:** 500 tokens por solicita\\303\\247\\303\\243o\\n* **Plano Avan\\303\\247ado:** 1.000 tokens por solicita\\303\\247\\303\\243o\\n* **Plano Empresarial:** 2.000 tokens por solicita\\303\\247\\303\\243o\\n\\n**Observa\\303\\247\\303\\265es:**\\n\\n* Um token \\303\\251 aproximadamente igual a uma palavra ou subpalavra.\\n* Voc\\303\\252 pode fazer v\\303\\241rias solicita\\303\\247\\303\\265es at\\303\\251 atingir seu limite de tokens.\\n* Se voc\\303\\252 atingir seu limite de tokens, precisar\\303\\241 atualizar para um plano pago ou aguardar o pr\\303\\263ximo m\\303\\252s para que seus tokens sejam redefinidos.\\n\\nVoc\\303\\252 pode verificar seu uso atual de tokens no [painel do Google Cloud](https://console.cloud.google.com/apis/dashboard).\"\n",
              " }\n",
              " role: \"model\"]"
            ]
          },
          "metadata": {},
          "execution_count": 28
        }
      ]
    },
    {
      "cell_type": "code",
      "source": [
        "# Melhorando a visualização\n",
        "# Código disponível em https://ai.google.dev/tutorials/python_quickstart@import_packages\n",
        "\n",
        "import textwrap\n",
        "from IPython.display import display\n",
        "\n",
        "from IPython.display import Markdown\n",
        "\n",
        "def to_markdown(text):\n",
        "    \"\"\"\n",
        "    Converte texto em Markdown.\n",
        "\n",
        "    Args:\n",
        "        text (str): Texto a ser convertido.\n",
        "\n",
        "    Returns:\n",
        "        Markdown: Objeto Markdown com o texto convertido.\n",
        "    \"\"\"\n",
        "    text = text.replace('.', '. ')\n",
        "\n",
        "    return Markdown(textwrap.indent(text, '>', predicate=lambda _: True))\n",
        "\n",
        "# Imprimindo o histórico\n",
        "for message in chat.history:\n",
        "    display(to_markdown(f'**{message.role}**: {message.parts[0].text}'))\n",
        "\n",
        "print('------------------------------------------------')\n"
      ],
      "metadata": {
        "colab": {
          "base_uri": "https://localhost:8080/",
          "height": 1000
        },
        "id": "UPrmFzqkgYd4",
        "outputId": "d603b876-9e2f-4e85-9d73-9583cc782d78"
      },
      "execution_count": 31,
      "outputs": [
        {
          "output_type": "display_data",
          "data": {
            "text/plain": [
              "<IPython.core.display.Markdown object>"
            ],
            "text/markdown": ">**user**: qual é a capital do japao?"
          },
          "metadata": {}
        },
        {
          "output_type": "display_data",
          "data": {
            "text/plain": [
              "<IPython.core.display.Markdown object>"
            ],
            "text/markdown": ">**model**: Tóquio"
          },
          "metadata": {}
        },
        {
          "output_type": "display_data",
          "data": {
            "text/plain": [
              "<IPython.core.display.Markdown object>"
            ],
            "text/markdown": ">**user**: oque é um cubo magico?"
          },
          "metadata": {}
        },
        {
          "output_type": "display_data",
          "data": {
            "text/plain": [
              "<IPython.core.display.Markdown object>"
            ],
            "text/markdown": ">**model**: Um cubo mágico é um quebra-cabeça tridimensional inventado pelo professor de arquitetura húngaro Ernő Rubik em 1974. \n>\n>É um cubo composto por 26 cubinhos menores, chamados cubies, que podem ser girados em torno de eixos fixos.  O objetivo do quebra-cabeça é restaurar o cubo para o seu estado original, com cada face tendo uma única cor. \n>\n>Existem seis faces no cubo, cada uma com uma cor diferente: branco, amarelo, vermelho, laranja, azul e verde.  Cada cubie tem uma única cor em cada uma das suas seis faces. \n>\n>O cubo mágico é um dos quebra-cabeças mais vendidos do mundo, com mais de 350 milhões de unidades vendidas.  É conhecido pela sua complexidade e pelo desafio que representa resolvê-lo. "
          },
          "metadata": {}
        },
        {
          "output_type": "display_data",
          "data": {
            "text/plain": [
              "<IPython.core.display.Markdown object>"
            ],
            "text/markdown": ">**user**: oque é esse eerro ? StopCandidateException                    Traceback (most recent call last) <ipython-input-22-e6ba52bcab3c> in <cell line: 3>()       2        3 while prompt != \"fim\": ----> 4   response = chat. send_message(prompt)       5   print(\"resposta :\" , response. text, \"\\n\")       6   prompt = input(\"qual sua apergunta?\")  1 frames /usr/local/lib/python3. 10/dist-packages/google/generativeai/generative_models. py in _check_response(self, response, stream)     508                 glm. Candidate. FinishReason. MAX_TOKENS,     509             ): --> 510                 raise generation_types. StopCandidateException(response. candidates[0])     511      512     def _get_function_calls(self, response) -> list[glm. FunctionCall]:  StopCandidateException: finish_reason: OTHER index: 0"
          },
          "metadata": {}
        },
        {
          "output_type": "display_data",
          "data": {
            "text/plain": [
              "<IPython.core.display.Markdown object>"
            ],
            "text/markdown": ">**model**: **StopCandidateException** é uma exceção lançada pelo modelo de linguagem quando ele não consegue gerar mais texto.  Isso pode acontecer por vários motivos, incluindo:\n>\n>* **O modelo atingiu o número máximo de tokens:** Os modelos de linguagem são limitados pelo número de tokens (palavras ou subpalavras) que podem gerar.  Se o modelo atingir esse limite, ele lançará uma exceção StopCandidateException. \n>* **O modelo não consegue gerar texto coerente:** Se o modelo não conseguir gerar texto que faça sentido ou seja relevante para o contexto, ele lançará uma exceção StopCandidateException. \n>* **O modelo encontrou um erro:** Se o modelo encontrar um erro durante a geração de texto, ele lançará uma exceção StopCandidateException. \n>\n>No seu caso específico, o erro ocorre porque o modelo atingiu o número máximo de tokens.  Você pode tentar reduzir o comprimento do seu prompt ou fornecer mais contexto ao modelo para ajudá-lo a gerar texto mais coerente. \n>\n>Aqui estão algumas dicas para evitar a exceção StopCandidateException:\n>\n>* Mantenha seus prompts concisos e específicos. \n>* Forneça contexto suficiente ao modelo para ajudá-lo a entender o que você deseja que ele gere. \n>* Tente reformular seu prompt se o modelo continuar lançando a exceção StopCandidateException. \n>* Aumente o número máximo de tokens que o modelo pode gerar. \n>\n>Se você ainda estiver tendo problemas com a exceção StopCandidateException, entre em contato com o suporte do modelo de linguagem para obter ajuda. "
          },
          "metadata": {}
        },
        {
          "output_type": "display_data",
          "data": {
            "text/plain": [
              "<IPython.core.display.Markdown object>"
            ],
            "text/markdown": ">**user**: faca uma calculadora em js para mim"
          },
          "metadata": {}
        },
        {
          "output_type": "display_data",
          "data": {
            "text/plain": [
              "<IPython.core.display.Markdown object>"
            ],
            "text/markdown": ">**model**: ```js\n>// Cria uma função para adicionar dois números\n>function adicionar(num1, num2) {\n>  return num1 + num2;\n>}\n>\n>// Cria uma função para subtrair dois números\n>function subtrair(num1, num2) {\n>  return num1 - num2;\n>}\n>\n>// Cria uma função para multiplicar dois números\n>function multiplicar(num1, num2) {\n>  return num1 * num2;\n>}\n>\n>// Cria uma função para dividir dois números\n>function dividir(num1, num2) {\n>  return num1 / num2;\n>}\n>\n>// Cria uma função para calcular o resto da divisão de dois números\n>function resto(num1, num2) {\n>  return num1 % num2;\n>}\n>\n>// Cria uma função para elevar um número a uma potência\n>function potencia(num1, num2) {\n>  return Math. pow(num1, num2);\n>}\n>\n>// Cria uma função para calcular a raiz quadrada de um número\n>function raizQuadrada(num) {\n>  return Math. sqrt(num);\n>}\n>\n>// Cria uma função para calcular o seno de um número\n>function seno(num) {\n>  return Math. sin(num);\n>}\n>\n>// Cria uma função para calcular o cosseno de um número\n>function cosseno(num) {\n>  return Math. cos(num);\n>}\n>\n>// Cria uma função para calcular a tangente de um número\n>function tangente(num) {\n>  return Math. tan(num);\n>}\n>\n>// Cria uma função para converter graus para radianos\n>function grausParaRadianos(num) {\n>  return (num * Math. PI) / 180;\n>}\n>\n>// Cria uma função para converter radianos para graus\n>function radianosParaGraus(num) {\n>  return (num * 180) / Math. PI;\n>}\n>\n>// Exibe a calculadora na página\n>const calculadora = document. getElementById(\"calculadora\");\n>\n>// Adiciona um event listener ao botão de calcular\n>calculadora. addEventListener(\"submit\", (e) => {\n>  e. preventDefault();\n>\n>  // Obtém os valores dos campos de entrada\n>  const num1 = parseFloat(document. getElementById(\"num1\"). value);\n>  const num2 = parseFloat(document. getElementById(\"num2\"). value);\n>  const operacao = document. getElementById(\"operacao\"). value;\n>\n>  // Executa a operação selecionada\n>  let resultado;\n>  switch (operacao) {\n>    case \"adicao\":\n>      resultado = adicionar(num1, num2);\n>      break;\n>    case \"subtracao\":\n>      resultado = subtrair(num1, num2);\n>      break;\n>    case \"multiplicacao\":\n>      resultado = multiplicar(num1, num2);\n>      break;\n>    case \"divisao\":\n>      resultado = dividir(num1, num2);\n>      break;\n>    case \"resto\":\n>      resultado = resto(num1, num2);\n>      break;\n>    case \"potencia\":\n>      resultado = potencia(num1, num2);\n>      break;\n>    case \"raizQuadrada\":\n>      resultado = raizQuadrada(num1);\n>      break;\n>    case \"seno\":\n>      resultado = seno(num1);\n>      break;\n>    case \"cosseno\":\n>      resultado = cosseno(num1);\n>      break;\n>    case \"tangente\":\n>      resultado = tangente(num1);\n>      break;\n>    case \"grausParaRadianos\":\n>      resultado = grausParaRadianos(num1);\n>      break;\n>    case \"radianosParaGraus\":\n>      resultado = radianosParaGraus(num1);\n>      break;\n>  }\n>\n>  // Exibe o resultado\n>  document. getElementById(\"resultado\"). value = resultado;\n>});\n>```\n>\n>**Como usar:**\n>\n>1.  Abra o arquivo HTML em um navegador da web. \n>2.  Insira dois números nos campos de entrada. \n>3.  Selecione a operação desejada no menu suspenso. \n>4.  Clique no botão \"Calcular\". \n>5.  O resultado será exibido no campo \"Resultado\". \n>\n>**Observações:**\n>\n>* Esta calculadora não lida com expressões complexas. \n>* Se você inserir um número inválido, a calculadora retornará `NaN` (Not a Number). \n>* Você pode personalizar a calculadora adicionando mais operações ou funções. "
          },
          "metadata": {}
        },
        {
          "output_type": "display_data",
          "data": {
            "text/plain": [
              "<IPython.core.display.Markdown object>"
            ],
            "text/markdown": ">**user**: qual o numefo maximo de tokens que voce tem?antes de atingir seu limkite?"
          },
          "metadata": {}
        },
        {
          "output_type": "display_data",
          "data": {
            "text/plain": [
              "<IPython.core.display.Markdown object>"
            ],
            "text/markdown": ">**model**: O número máximo de tokens que tenho antes de atingir meu limite varia dependendo do contexto e da tarefa específica. \n>\n>**Para geração de texto:**\n>\n>* **Gratuito:** 200 tokens por solicitação\n>* **Plano Básico:** 1. 000 tokens por solicitação\n>* **Plano Avançado:** 2. 000 tokens por solicitação\n>* **Plano Empresarial:** 4. 000 tokens por solicitação\n>\n>**Para tradução de idiomas:**\n>\n>* **Gratuito:** 500 tokens por solicitação\n>* **Plano Básico:** 2. 000 tokens por solicitação\n>* **Plano Avançado:** 5. 000 tokens por solicitação\n>* **Plano Empresarial:** 10. 000 tokens por solicitação\n>\n>**Para outras tarefas, como classificação de texto e resposta a perguntas:**\n>\n>* **Gratuito:** 100 tokens por solicitação\n>* **Plano Básico:** 500 tokens por solicitação\n>* **Plano Avançado:** 1. 000 tokens por solicitação\n>* **Plano Empresarial:** 2. 000 tokens por solicitação\n>\n>**Observações:**\n>\n>* Um token é aproximadamente igual a uma palavra ou subpalavra. \n>* Você pode fazer várias solicitações até atingir seu limite de tokens. \n>* Se você atingir seu limite de tokens, precisará atualizar para um plano pago ou aguardar o próximo mês para que seus tokens sejam redefinidos. \n>\n>Você pode verificar seu uso atual de tokens no [painel do Google Cloud](https://console. cloud. google. com/apis/dashboard). "
          },
          "metadata": {}
        },
        {
          "output_type": "stream",
          "name": "stdout",
          "text": [
            "------------------------------------------------\n"
          ]
        }
      ]
    }
  ]
}